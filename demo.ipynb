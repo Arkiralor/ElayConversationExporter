{
 "cells": [
  {
   "cell_type": "code",
   "execution_count": null,
   "metadata": {},
   "outputs": [],
   "source": [
    "import pandas as pd\n",
    "from os import sep\n",
    "from json import loads, dumps"
   ]
  },
  {
   "cell_type": "code",
   "execution_count": null,
   "metadata": {},
   "outputs": [],
   "source": [
    "# CHATBOT_ID = 2807\n",
    "# CHATBOT_ID = 2828\n",
    "CHATBOT_ID = 2848\n",
    "FILE_PATH = f\"data{sep}{CHATBOT_ID}-convo.csv\""
   ]
  },
  {
   "cell_type": "code",
   "execution_count": null,
   "metadata": {},
   "outputs": [],
   "source": [
    "def export_cleaned_conversation():\n",
    "    data_frame = pd.read_csv(FILE_PATH)\n",
    "    data_frame[\"chatbot_id\"] = CHATBOT_ID\n",
    "    data_frame = data_frame.drop('raw_data', axis=1)\n",
    "    data_frame.to_csv(f\"data{sep}cleaned{sep}{CHATBOT_ID}_cleaned_convo.csv\")"
   ]
  },
  {
   "cell_type": "code",
   "execution_count": null,
   "metadata": {},
   "outputs": [],
   "source": [
    "export_cleaned_conversation()"
   ]
  },
  {
   "cell_type": "code",
   "execution_count": null,
   "metadata": {},
   "outputs": [],
   "source": [
    "dataframe = pd.read_csv(f\"data{sep}cleaned{sep}{CHATBOT_ID}_cleaned_convo.csv\")\n",
    "dataframe.head()"
   ]
  },
  {
   "cell_type": "code",
   "execution_count": null,
   "metadata": {},
   "outputs": [],
   "source": [
    "convo_json = []\n",
    "\n",
    "for row in dataframe.itertuples():\n",
    "    data_001 = loads(row.data)\n",
    "    data_002 = loads(row.extra_data)\n",
    "    full_data = {\n",
    "        \"id\": row.id\n",
    "    }\n",
    "    for key in data_001:\n",
    "        full_data[key] = data_001.get(key, \"\")\n",
    "    for key in data_002:\n",
    "        full_data[key] = data_001.get(key, \"\")\n",
    "    convo_json.append(full_data)\n",
    "df = pd.DataFrame(convo_json)\n",
    "df.to_csv(f\"data{sep}export{sep}{CHATBOT_ID}_export.csv\")\n",
    "\n",
    "\n"
   ]
  }
 ],
 "metadata": {
  "kernelspec": {
   "display_name": "env",
   "language": "python",
   "name": "python3"
  },
  "language_info": {
   "codemirror_mode": {
    "name": "ipython",
    "version": 3
   },
   "file_extension": ".py",
   "mimetype": "text/x-python",
   "name": "python",
   "nbconvert_exporter": "python",
   "pygments_lexer": "ipython3",
   "version": "3.11.9"
  }
 },
 "nbformat": 4,
 "nbformat_minor": 2
}
